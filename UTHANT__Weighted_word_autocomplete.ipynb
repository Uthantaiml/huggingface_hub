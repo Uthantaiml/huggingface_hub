{
  "cells": [
    {
      "cell_type": "markdown",
      "metadata": {
        "id": "view-in-github",
        "colab_type": "text"
      },
      "source": [
        "<a href=\"https://colab.research.google.com/github/Uthantaiml/huggingface_hub/blob/main/UTHANT__Weighted_word_autocomplete.ipynb\" target=\"_parent\"><img src=\"https://colab.research.google.com/assets/colab-badge.svg\" alt=\"Open In Colab\"/></a>"
      ]
    },
    {
      "cell_type": "markdown",
      "metadata": {
        "id": "iaHNxUntdN6a"
      },
      "source": [
        "# Advanced Certification in AIML\n",
        "## A Program by IIIT-H and TalentSprint\n"
      ]
    },
    {
      "cell_type": "markdown",
      "source": [
        "## About Dataset\n",
        "\n",
        "Context\n",
        "Star Wars is a popular film franchise that takes place in a galaxy far, far away. This is a collection of script dialogue between characters for the first three movies (episodes 4-6). Since it's a holiday (and just because Star Wars is an awesome movie), this data should serve as a fun way to implement text mining and linguistics.\n",
        "\n",
        "## Content\n",
        "\n",
        "**SW_EpisodeIV.txt** Script from the Episode IV: A New Hope with columns character and dialogue.\n",
        "\n",
        "**SW_EpisodeV.txt** Script from the Episode V: The Empire Strikes Back with columns character and dialogue.\n",
        "\n",
        "**SW_EpisodeVI.txt** Script from the Episode VI: Return of the Jedi with columns character and dialogue.\n"
      ],
      "metadata": {
        "id": "GW_mlRfqHV8u"
      }
    },
    {
      "cell_type": "markdown",
      "metadata": {
        "id": "qUmaxUW-rpxU"
      },
      "source": [
        "### Setup Steps:"
      ]
    },
    {
      "cell_type": "code",
      "metadata": {
        "id": "RJNz2sDLoZ47"
      },
      "source": [
        "#@title Please enter your registration id to start: { run: \"auto\", display-mode: \"form\" }\n",
        "Id = \"2304537\" #@param {type:\"string\"}"
      ],
      "execution_count": null,
      "outputs": []
    },
    {
      "cell_type": "code",
      "metadata": {
        "id": "maYkps60oZ48"
      },
      "source": [
        "#@title Please enter your password (normally your phone number) to continue: { run: \"auto\", display-mode: \"form\" }\n",
        "password = \"9121534285\" #@param {type:\"string\"}"
      ],
      "execution_count": null,
      "outputs": []
    },
    {
      "cell_type": "code",
      "metadata": {
        "cellView": "form",
        "id": "9wKhlWDsoZ48",
        "outputId": "cf90a026-117d-434e-f13d-19f5eb068f7f",
        "colab": {
          "base_uri": "https://localhost:8080/",
          "height": 34
        }
      },
      "source": [
        "#@title Run this cell to complete the setup for this Notebook\n",
        "from IPython import get_ipython\n",
        "import re\n",
        "ipython = get_ipython()\n",
        "\n",
        "notebook= \"Autocompletion_GPT2\" #name of the notebook\n",
        "\n",
        "def setup():\n",
        "#  ipython.magic(\"sx pip3 install torch\")\n",
        "    from IPython.display import HTML, display\n",
        "    ipython.magic(\"sx wget https://drive.google.com/uc?id=12jYBY0yqwNEErkqol06BtEQF3C-wSUBS -O document.pdf\")\n",
        "    display(HTML('<script src=\"https://dashboard.talentsprint.com/aiml/record_ip.html?traineeId={0}&recordId={1}\"></script>'.format(getId(),submission_id)))\n",
        "    print(\"Setup completed successfully\")\n",
        "    return\n",
        "\n",
        "def submit_notebook():\n",
        "    ipython.magic(\"notebook -e \"+ notebook + \".ipynb\")\n",
        "\n",
        "    import requests, json, base64, datetime\n",
        "\n",
        "    url = \"https://dashboard.talentsprint.com/xp/app/save_notebook_attempts\"\n",
        "    if not submission_id:\n",
        "      data = {\"id\" : getId(), \"notebook\" : notebook, \"mobile\" : getPassword()}\n",
        "      r = requests.post(url, data = data)\n",
        "      r = json.loads(r.text)\n",
        "\n",
        "      if r[\"status\"] == \"Success\":\n",
        "          return r[\"record_id\"]\n",
        "      elif \"err\" in r:\n",
        "        print(r[\"err\"])\n",
        "        return None\n",
        "      else:\n",
        "        print (\"Something is wrong, the notebook will not be submitted for grading\")\n",
        "        return None\n",
        "\n",
        "    elif getComplexity() and getAdditional() and getConcepts() and getWalkthrough() and getComments() and getMentorSupport():\n",
        "      f = open(notebook + \".ipynb\", \"rb\")\n",
        "      file_hash = base64.b64encode(f.read())\n",
        "\n",
        "      data = {\"complexity\" : Complexity, \"additional\" :Additional,\n",
        "              \"concepts\" : Concepts, \"record_id\" : submission_id,\n",
        "               \"id\" : Id, \"file_hash\" : file_hash,\n",
        "              \"notebook\" : notebook, \"feedback_walkthrough\":Walkthrough ,\n",
        "              \"feedback_experiments_input\" : Comments,\n",
        "              \"feedback_inclass_mentor\": Mentor_support}\n",
        "\n",
        "      r = requests.post(url, data = data)\n",
        "      r = json.loads(r.text)\n",
        "      if \"err\" in r:\n",
        "        print(r[\"err\"])\n",
        "        return None\n",
        "      else:\n",
        "        print(\"Your submission is successful.\")\n",
        "        print(\"Ref Id:\", submission_id)\n",
        "        print(\"Date of submission: \", r[\"date\"])\n",
        "        print(\"Time of submission: \", r[\"time\"])\n",
        "        print(\"View your submissions: https://aiml-iiith.talentsprint.com/notebook_submissions\")\n",
        "        #print(\"For any queries/discrepancies, please connect with mentors through the chat icon in LMS dashboard.\")\n",
        "        return submission_id\n",
        "    else: submission_id\n",
        "\n",
        "\n",
        "def getAdditional():\n",
        "  try:\n",
        "    if not Additional:\n",
        "      raise NameError\n",
        "    else:\n",
        "      return Additional\n",
        "  except NameError:\n",
        "    print (\"Please answer Additional Question\")\n",
        "    return None\n",
        "\n",
        "def getComplexity():\n",
        "  try:\n",
        "    if not Complexity:\n",
        "      raise NameError\n",
        "    else:\n",
        "      return Complexity\n",
        "  except NameError:\n",
        "    print (\"Please answer Complexity Question\")\n",
        "    return None\n",
        "\n",
        "def getConcepts():\n",
        "  try:\n",
        "    if not Concepts:\n",
        "      raise NameError\n",
        "    else:\n",
        "      return Concepts\n",
        "  except NameError:\n",
        "    print (\"Please answer Concepts Question\")\n",
        "    return None\n",
        "\n",
        "\n",
        "def getWalkthrough():\n",
        "  try:\n",
        "    if not Walkthrough:\n",
        "      raise NameError\n",
        "    else:\n",
        "      return Walkthrough\n",
        "  except NameError:\n",
        "    print (\"Please answer Walkthrough Question\")\n",
        "    return None\n",
        "\n",
        "def getComments():\n",
        "  try:\n",
        "    if not Comments:\n",
        "      raise NameError\n",
        "    else:\n",
        "      return Comments\n",
        "  except NameError:\n",
        "    print (\"Please answer Comments Question\")\n",
        "    return None\n",
        "\n",
        "\n",
        "def getMentorSupport():\n",
        "  try:\n",
        "    if not Mentor_support:\n",
        "      raise NameError\n",
        "    else:\n",
        "      return Mentor_support\n",
        "  except NameError:\n",
        "    print (\"Please answer Mentor support Question\")\n",
        "    return None\n",
        "\n",
        "\n",
        "def getId():\n",
        "  try:\n",
        "    return Id if Id else None\n",
        "  except NameError:\n",
        "    return None\n",
        "\n",
        "def getPassword():\n",
        "  try:\n",
        "    return password if password else None\n",
        "  except NameError:\n",
        "    return None\n",
        "\n",
        "submission_id = None\n",
        "### Setup\n",
        "if getPassword() and getId():\n",
        "  submission_id = submit_notebook()\n",
        "  if submission_id:\n",
        "    setup()\n",
        "else:\n",
        "  print (\"Please complete Id and Password cells before running setup\")\n",
        "\n"
      ],
      "execution_count": null,
      "outputs": [
        {
          "output_type": "display_data",
          "data": {
            "text/plain": [
              "<IPython.core.display.HTML object>"
            ],
            "text/html": [
              "<script src=\"https://dashboard.talentsprint.com/aiml/record_ip.html?traineeId=2304537&recordId=9405\"></script>"
            ]
          },
          "metadata": {}
        },
        {
          "output_type": "stream",
          "name": "stdout",
          "text": [
            "Setup completed successfully\n"
          ]
        }
      ]
    },
    {
      "cell_type": "code",
      "source": [
        "# @title Download dataset\n",
        "!gdown https://drive.google.com/uc?id=1JpLxcTsEeAkrIUUx3QScSm7H-ibc75vI\n",
        "!gdown https://drive.google.com/uc?id=1XHSgDYSsaetBV2W7N8qAxweyBTupTAsB\n",
        "!gdown https://drive.google.com/uc?id=1PoRtZuffw1lKmkPNoSdNGQBBMmSRTjFm"
      ],
      "metadata": {
        "cellView": "form",
        "id": "frlaG_JAL951",
        "outputId": "ac8a6449-a597-410a-cda4-b84ebb5de93d",
        "colab": {
          "base_uri": "https://localhost:8080/"
        }
      },
      "execution_count": null,
      "outputs": [
        {
          "output_type": "stream",
          "name": "stdout",
          "text": [
            "Downloading...\n",
            "From: https://drive.google.com/uc?id=1JpLxcTsEeAkrIUUx3QScSm7H-ibc75vI\n",
            "To: /content/SW_EpisodeIV.txt\n",
            "100% 78.3k/78.3k [00:00<00:00, 68.5MB/s]\n",
            "Downloading...\n",
            "From: https://drive.google.com/uc?id=1XHSgDYSsaetBV2W7N8qAxweyBTupTAsB\n",
            "To: /content/SW_EpisodeV.txt\n",
            "100% 55.5k/55.5k [00:00<00:00, 58.3MB/s]\n",
            "Downloading...\n",
            "From: https://drive.google.com/uc?id=1PoRtZuffw1lKmkPNoSdNGQBBMmSRTjFm\n",
            "To: /content/SW_EpisodeVI.txt\n",
            "100% 48.2k/48.2k [00:00<00:00, 70.0MB/s]\n"
          ]
        }
      ]
    },
    {
      "metadata": {
        "_cell_guid": "b1076dfc-b9ad-4769-8c92-a6c4dae69d19",
        "_uuid": "8f2839f25d086af736a60e9eeb907d3b93b6e0e5",
        "trusted": true,
        "id": "OjNLRTmBGr0Y"
      },
      "cell_type": "code",
      "source": [
        "import numpy as np # linear algebra\n",
        "import pandas as pd # data processing, CSV file I/O (e.g. pd.read_csv)\n",
        "import string\n",
        "import os"
      ],
      "execution_count": null,
      "outputs": []
    },
    {
      "metadata": {
        "_cell_guid": "080391d0-de1a-4944-81ec-289a8d60f92b",
        "_uuid": "f97e8a4b750bf140d9927fa1c30d6a6860fef76c",
        "id": "UxTVk7fwGr0Z"
      },
      "cell_type": "markdown",
      "source": [
        "The idea here is to keep a corpus of words in a [trie](https://en.wikipedia.org/wiki/Trie). We will store the occurrence of each letter during the learning phase.\n",
        "When we come to try and autocomplete a word we're going to:\n",
        "\n",
        "\n",
        "1. Go through the trie and try to find where the end of the input lives in our structure (we return an error if the given word doesn't exist).\n",
        "2. Search the next set of potential characters using a breadth first approach, keeping just the characters that are most likely to show up next (this is what you need the occurance count for).\n",
        "3. Record the score of each finished word (shown by `<eow>` below) in a list.\n",
        "\n",
        "Among the features that use autocomplete are\n",
        "\n",
        "- The trie can be trained online. You could instantly update the search if a user inputs a word you haven't seen before.\n",
        "- It does a very limited search and only selects the branches that appear to have the highest chance of returning relevant results.\n",
        "\n"
      ]
    },
    {
      "metadata": {
        "_cell_guid": "79c7e3d0-c299-4dcb-8224-4455121ee9b0",
        "_kg_hide-input": false,
        "_kg_hide-output": false,
        "_uuid": "d629ff2d2480ee46fbb7e2d37f6b5fab8052498a",
        "collapsed": true,
        "trusted": true,
        "id": "MzmxuZdHGr0c"
      },
      "cell_type": "code",
      "source": [
        "# Load the script data from each episode file\n",
        "# We're assuming that each line in the text files represents a separate dialogue or line in the script.\n",
        "\n",
        "# Read Episode IV script, skipping any lines that cause errors during import\n",
        "df_IV = pd.read_table(\"SW_EpisodeIV.txt\", on_bad_lines='skip')\n",
        "# Read Episode V script, skipping any lines that cause errors during import\n",
        "df_V = pd.read_table(\"SW_EpisodeV.txt\", on_bad_lines='skip')\n",
        "# Read Episode VI script, skipping any lines that cause errors during import\n",
        "df_VI = pd.read_table(\"SW_EpisodeVI.txt\", on_bad_lines='skip')"
      ],
      "execution_count": null,
      "outputs": []
    },
    {
      "metadata": {
        "_cell_guid": "02097109-5107-4669-9319-a0d0c17ba657",
        "_kg_hide-input": false,
        "_uuid": "e1b3615b06106c51d77c53d720031a7c65cb746b",
        "trusted": true,
        "id": "moCQxYC-Gr0d",
        "outputId": "5aeb7045-6006-4bdf-ca8e-c6b493e66226",
        "colab": {
          "base_uri": "https://localhost:8080/",
          "height": 206
        }
      },
      "cell_type": "code",
      "source": [
        "# Set pandas to display the full width of any column, so we can see all text without truncation.\n",
        "pd.set_option('display.max_colwidth', 0)\n",
        "\n",
        "# Rename the single column in each DataFrame to 'text' for consistency and easier access\n",
        "df_IV.columns = ['text']\n",
        "df_V.columns = ['text']\n",
        "df_VI.columns = ['text']\n",
        "\n",
        "# Display the first 5 rows of the Episode IV DataFrame to verify the data structure and content\n",
        "df_IV.head(5)"
      ],
      "execution_count": null,
      "outputs": [
        {
          "output_type": "execute_result",
          "data": {
            "text/plain": [
              "                                                                                                                      text\n",
              "0  1 \"THREEPIO\" \"Did you hear that?  They've shut down the main reactor.  We'll be destroyed for sure.  This is madness!\" \n",
              "1  2 \"THREEPIO\" \"We're doomed!\"                                                                                           \n",
              "2  3 \"THREEPIO\" \"There'll be no escape for the Princess this time.\"                                                       \n",
              "3  4 \"THREEPIO\" \"What's that?\"                                                                                            \n",
              "4  5 \"THREEPIO\" \"I should have known better than to trust the logic of a half-sized thermocapsulary dehousing assister...\""
            ],
            "text/html": [
              "\n",
              "  <div id=\"df-4feb24d9-0d43-4088-906c-98cf55e30665\" class=\"colab-df-container\">\n",
              "    <div>\n",
              "<style scoped>\n",
              "    .dataframe tbody tr th:only-of-type {\n",
              "        vertical-align: middle;\n",
              "    }\n",
              "\n",
              "    .dataframe tbody tr th {\n",
              "        vertical-align: top;\n",
              "    }\n",
              "\n",
              "    .dataframe thead th {\n",
              "        text-align: right;\n",
              "    }\n",
              "</style>\n",
              "<table border=\"1\" class=\"dataframe\">\n",
              "  <thead>\n",
              "    <tr style=\"text-align: right;\">\n",
              "      <th></th>\n",
              "      <th>text</th>\n",
              "    </tr>\n",
              "  </thead>\n",
              "  <tbody>\n",
              "    <tr>\n",
              "      <th>0</th>\n",
              "      <td>1 \"THREEPIO\" \"Did you hear that?  They've shut down the main reactor.  We'll be destroyed for sure.  This is madness!\"</td>\n",
              "    </tr>\n",
              "    <tr>\n",
              "      <th>1</th>\n",
              "      <td>2 \"THREEPIO\" \"We're doomed!\"</td>\n",
              "    </tr>\n",
              "    <tr>\n",
              "      <th>2</th>\n",
              "      <td>3 \"THREEPIO\" \"There'll be no escape for the Princess this time.\"</td>\n",
              "    </tr>\n",
              "    <tr>\n",
              "      <th>3</th>\n",
              "      <td>4 \"THREEPIO\" \"What's that?\"</td>\n",
              "    </tr>\n",
              "    <tr>\n",
              "      <th>4</th>\n",
              "      <td>5 \"THREEPIO\" \"I should have known better than to trust the logic of a half-sized thermocapsulary dehousing assister...\"</td>\n",
              "    </tr>\n",
              "  </tbody>\n",
              "</table>\n",
              "</div>\n",
              "    <div class=\"colab-df-buttons\">\n",
              "\n",
              "  <div class=\"colab-df-container\">\n",
              "    <button class=\"colab-df-convert\" onclick=\"convertToInteractive('df-4feb24d9-0d43-4088-906c-98cf55e30665')\"\n",
              "            title=\"Convert this dataframe to an interactive table.\"\n",
              "            style=\"display:none;\">\n",
              "\n",
              "  <svg xmlns=\"http://www.w3.org/2000/svg\" height=\"24px\" viewBox=\"0 -960 960 960\">\n",
              "    <path d=\"M120-120v-720h720v720H120Zm60-500h600v-160H180v160Zm220 220h160v-160H400v160Zm0 220h160v-160H400v160ZM180-400h160v-160H180v160Zm440 0h160v-160H620v160ZM180-180h160v-160H180v160Zm440 0h160v-160H620v160Z\"/>\n",
              "  </svg>\n",
              "    </button>\n",
              "\n",
              "  <style>\n",
              "    .colab-df-container {\n",
              "      display:flex;\n",
              "      gap: 12px;\n",
              "    }\n",
              "\n",
              "    .colab-df-convert {\n",
              "      background-color: #E8F0FE;\n",
              "      border: none;\n",
              "      border-radius: 50%;\n",
              "      cursor: pointer;\n",
              "      display: none;\n",
              "      fill: #1967D2;\n",
              "      height: 32px;\n",
              "      padding: 0 0 0 0;\n",
              "      width: 32px;\n",
              "    }\n",
              "\n",
              "    .colab-df-convert:hover {\n",
              "      background-color: #E2EBFA;\n",
              "      box-shadow: 0px 1px 2px rgba(60, 64, 67, 0.3), 0px 1px 3px 1px rgba(60, 64, 67, 0.15);\n",
              "      fill: #174EA6;\n",
              "    }\n",
              "\n",
              "    .colab-df-buttons div {\n",
              "      margin-bottom: 4px;\n",
              "    }\n",
              "\n",
              "    [theme=dark] .colab-df-convert {\n",
              "      background-color: #3B4455;\n",
              "      fill: #D2E3FC;\n",
              "    }\n",
              "\n",
              "    [theme=dark] .colab-df-convert:hover {\n",
              "      background-color: #434B5C;\n",
              "      box-shadow: 0px 1px 3px 1px rgba(0, 0, 0, 0.15);\n",
              "      filter: drop-shadow(0px 1px 2px rgba(0, 0, 0, 0.3));\n",
              "      fill: #FFFFFF;\n",
              "    }\n",
              "  </style>\n",
              "\n",
              "    <script>\n",
              "      const buttonEl =\n",
              "        document.querySelector('#df-4feb24d9-0d43-4088-906c-98cf55e30665 button.colab-df-convert');\n",
              "      buttonEl.style.display =\n",
              "        google.colab.kernel.accessAllowed ? 'block' : 'none';\n",
              "\n",
              "      async function convertToInteractive(key) {\n",
              "        const element = document.querySelector('#df-4feb24d9-0d43-4088-906c-98cf55e30665');\n",
              "        const dataTable =\n",
              "          await google.colab.kernel.invokeFunction('convertToInteractive',\n",
              "                                                    [key], {});\n",
              "        if (!dataTable) return;\n",
              "\n",
              "        const docLinkHtml = 'Like what you see? Visit the ' +\n",
              "          '<a target=\"_blank\" href=https://colab.research.google.com/notebooks/data_table.ipynb>data table notebook</a>'\n",
              "          + ' to learn more about interactive tables.';\n",
              "        element.innerHTML = '';\n",
              "        dataTable['output_type'] = 'display_data';\n",
              "        await google.colab.output.renderOutput(dataTable, element);\n",
              "        const docLink = document.createElement('div');\n",
              "        docLink.innerHTML = docLinkHtml;\n",
              "        element.appendChild(docLink);\n",
              "      }\n",
              "    </script>\n",
              "  </div>\n",
              "\n",
              "\n",
              "<div id=\"df-62865dd8-a62a-4de0-a29d-8ef6f7a86ce0\">\n",
              "  <button class=\"colab-df-quickchart\" onclick=\"quickchart('df-62865dd8-a62a-4de0-a29d-8ef6f7a86ce0')\"\n",
              "            title=\"Suggest charts\"\n",
              "            style=\"display:none;\">\n",
              "\n",
              "<svg xmlns=\"http://www.w3.org/2000/svg\" height=\"24px\"viewBox=\"0 0 24 24\"\n",
              "     width=\"24px\">\n",
              "    <g>\n",
              "        <path d=\"M19 3H5c-1.1 0-2 .9-2 2v14c0 1.1.9 2 2 2h14c1.1 0 2-.9 2-2V5c0-1.1-.9-2-2-2zM9 17H7v-7h2v7zm4 0h-2V7h2v10zm4 0h-2v-4h2v4z\"/>\n",
              "    </g>\n",
              "</svg>\n",
              "  </button>\n",
              "\n",
              "<style>\n",
              "  .colab-df-quickchart {\n",
              "      --bg-color: #E8F0FE;\n",
              "      --fill-color: #1967D2;\n",
              "      --hover-bg-color: #E2EBFA;\n",
              "      --hover-fill-color: #174EA6;\n",
              "      --disabled-fill-color: #AAA;\n",
              "      --disabled-bg-color: #DDD;\n",
              "  }\n",
              "\n",
              "  [theme=dark] .colab-df-quickchart {\n",
              "      --bg-color: #3B4455;\n",
              "      --fill-color: #D2E3FC;\n",
              "      --hover-bg-color: #434B5C;\n",
              "      --hover-fill-color: #FFFFFF;\n",
              "      --disabled-bg-color: #3B4455;\n",
              "      --disabled-fill-color: #666;\n",
              "  }\n",
              "\n",
              "  .colab-df-quickchart {\n",
              "    background-color: var(--bg-color);\n",
              "    border: none;\n",
              "    border-radius: 50%;\n",
              "    cursor: pointer;\n",
              "    display: none;\n",
              "    fill: var(--fill-color);\n",
              "    height: 32px;\n",
              "    padding: 0;\n",
              "    width: 32px;\n",
              "  }\n",
              "\n",
              "  .colab-df-quickchart:hover {\n",
              "    background-color: var(--hover-bg-color);\n",
              "    box-shadow: 0 1px 2px rgba(60, 64, 67, 0.3), 0 1px 3px 1px rgba(60, 64, 67, 0.15);\n",
              "    fill: var(--button-hover-fill-color);\n",
              "  }\n",
              "\n",
              "  .colab-df-quickchart-complete:disabled,\n",
              "  .colab-df-quickchart-complete:disabled:hover {\n",
              "    background-color: var(--disabled-bg-color);\n",
              "    fill: var(--disabled-fill-color);\n",
              "    box-shadow: none;\n",
              "  }\n",
              "\n",
              "  .colab-df-spinner {\n",
              "    border: 2px solid var(--fill-color);\n",
              "    border-color: transparent;\n",
              "    border-bottom-color: var(--fill-color);\n",
              "    animation:\n",
              "      spin 1s steps(1) infinite;\n",
              "  }\n",
              "\n",
              "  @keyframes spin {\n",
              "    0% {\n",
              "      border-color: transparent;\n",
              "      border-bottom-color: var(--fill-color);\n",
              "      border-left-color: var(--fill-color);\n",
              "    }\n",
              "    20% {\n",
              "      border-color: transparent;\n",
              "      border-left-color: var(--fill-color);\n",
              "      border-top-color: var(--fill-color);\n",
              "    }\n",
              "    30% {\n",
              "      border-color: transparent;\n",
              "      border-left-color: var(--fill-color);\n",
              "      border-top-color: var(--fill-color);\n",
              "      border-right-color: var(--fill-color);\n",
              "    }\n",
              "    40% {\n",
              "      border-color: transparent;\n",
              "      border-right-color: var(--fill-color);\n",
              "      border-top-color: var(--fill-color);\n",
              "    }\n",
              "    60% {\n",
              "      border-color: transparent;\n",
              "      border-right-color: var(--fill-color);\n",
              "    }\n",
              "    80% {\n",
              "      border-color: transparent;\n",
              "      border-right-color: var(--fill-color);\n",
              "      border-bottom-color: var(--fill-color);\n",
              "    }\n",
              "    90% {\n",
              "      border-color: transparent;\n",
              "      border-bottom-color: var(--fill-color);\n",
              "    }\n",
              "  }\n",
              "</style>\n",
              "\n",
              "  <script>\n",
              "    async function quickchart(key) {\n",
              "      const quickchartButtonEl =\n",
              "        document.querySelector('#' + key + ' button');\n",
              "      quickchartButtonEl.disabled = true;  // To prevent multiple clicks.\n",
              "      quickchartButtonEl.classList.add('colab-df-spinner');\n",
              "      try {\n",
              "        const charts = await google.colab.kernel.invokeFunction(\n",
              "            'suggestCharts', [key], {});\n",
              "      } catch (error) {\n",
              "        console.error('Error during call to suggestCharts:', error);\n",
              "      }\n",
              "      quickchartButtonEl.classList.remove('colab-df-spinner');\n",
              "      quickchartButtonEl.classList.add('colab-df-quickchart-complete');\n",
              "    }\n",
              "    (() => {\n",
              "      let quickchartButtonEl =\n",
              "        document.querySelector('#df-62865dd8-a62a-4de0-a29d-8ef6f7a86ce0 button');\n",
              "      quickchartButtonEl.style.display =\n",
              "        google.colab.kernel.accessAllowed ? 'block' : 'none';\n",
              "    })();\n",
              "  </script>\n",
              "</div>\n",
              "\n",
              "    </div>\n",
              "  </div>\n"
            ],
            "application/vnd.google.colaboratory.intrinsic+json": {
              "type": "dataframe",
              "variable_name": "df_IV",
              "summary": "{\n  \"name\": \"df_IV\",\n  \"rows\": 1010,\n  \"fields\": [\n    {\n      \"column\": \"text\",\n      \"properties\": {\n        \"dtype\": \"string\",\n        \"num_unique_values\": 1010,\n        \"samples\": [\n          \"630 \\\"HAN\\\" \\\"Can't get out that way.\\\"\",\n          \"789 \\\"HAN\\\" \\\"It is for me, sister!  Look, I ain't in this for your revolution, and I'm not in it for you, Princess.  I expect to be well paid.  I'm in it for the money!\\\"\",\n          \"685 \\\"THREEPIO\\\" \\\"They aren't here!  Something must have happened to them.  See if they've been captured.\\\"\"\n        ],\n        \"semantic_type\": \"\",\n        \"description\": \"\"\n      }\n    }\n  ]\n}"
            }
          },
          "metadata": {},
          "execution_count": 7
        }
      ]
    },
    {
      "source": [
        "from google.colab import sheets\n",
        "sheet = sheets.InteractiveSheet(df=df_IV)"
      ],
      "cell_type": "code",
      "execution_count": null,
      "outputs": [
        {
          "output_type": "stream",
          "name": "stdout",
          "text": [
            "https://docs.google.com/spreadsheets/d/1v0A8GGxeAWrSqjKX1Z4I-k5bkV3PHQvn4WWDbU5ED8o#gid=0\n"
          ]
        },
        {
          "output_type": "stream",
          "name": "stderr",
          "text": [
            "/usr/local/lib/python3.10/dist-packages/google/colab/sheets.py:31: FutureWarning: DataFrame.applymap has been deprecated. Use DataFrame.map instead.\n",
            "  return frame.applymap(_clean_val).replace({np.nan: None})\n"
          ]
        },
        {
          "output_type": "display_data",
          "data": {
            "text/plain": [
              "<IPython.lib.display.IFrame at 0x789d13360880>"
            ],
            "text/html": [
              "\n",
              "        <iframe\n",
              "            width=\"100%\"\n",
              "            height=\"600\"\n",
              "            src=\"https://docs.google.com/spreadsheets/d/1v0A8GGxeAWrSqjKX1Z4I-k5bkV3PHQvn4WWDbU5ED8o#gid=0/edit?rm=embedded?usp=sharing?widget=true&amp;headers=false\"\n",
              "            frameborder=\"0\"\n",
              "            allowfullscreen\n",
              "            \n",
              "        ></iframe>\n",
              "        "
            ]
          },
          "metadata": {}
        }
      ],
      "metadata": {
        "cellView": "form",
        "id": "E7LXG6JyL5um",
        "outputId": "4ea5db7b-f8b4-4670-83b0-d44e70bb9064",
        "colab": {
          "base_uri": "https://localhost:8080/",
          "height": 673
        }
      }
    },
    {
      "cell_type": "code",
      "source": [],
      "metadata": {
        "id": "5yTvVsHzLpvg"
      },
      "execution_count": null,
      "outputs": []
    },
    {
      "metadata": {
        "_cell_guid": "ef685690-ca69-4f10-bfe2-752ed2c555a8",
        "_kg_hide-input": false,
        "_kg_hide-output": false,
        "_uuid": "ba03679a25d3116d0a4e79892468cc5971e35b26",
        "collapsed": true,
        "trusted": true,
        "id": "frteSTLwGr0e"
      },
      "cell_type": "code",
      "source": [
        "def prep_text(in_text):\n",
        "    return in_text.split('\"')[3:-1][0].lower().translate(str.maketrans(\"\", \"\", string.punctuation)).split()"
      ],
      "execution_count": null,
      "outputs": []
    },
    {
      "metadata": {
        "_uuid": "07e44deccb12afdba578f847729c17f8bf1d4e7d",
        "id": "XGjTAOkvGr0f"
      },
      "cell_type": "markdown",
      "source": [
        "Clean the text a bit"
      ]
    },
    {
      "metadata": {
        "_cell_guid": "d753dfe5-82fe-46d0-973a-e171a26e9275",
        "_uuid": "81d86bed275fbe617d34be0249e820b0253ec6aa",
        "trusted": true,
        "id": "5P2GFi70Gr0f",
        "outputId": "656138ef-9802-4b59-9674-c53c0969b2aa",
        "colab": {
          "base_uri": "https://localhost:8080/",
          "height": 206
        }
      },
      "cell_type": "code",
      "source": [
        "# Apply the prep_text function to the 'text' column of the df_IV DataFrame\n",
        "# This will clean the text by splitting it, removing punctuation, converting it to lowercase, and splitting it into words\n",
        "df_IV['clean_text'] = df_IV.apply(lambda row: prep_text(row['text']), axis=1)\n",
        "\n",
        "# Apply the same prep_text function to the 'text' column of the df_V DataFrame\n",
        "# This will clean the text in the same way as for Episode IV\n",
        "df_V['clean_text'] = df_V.apply(lambda row: prep_text(row['text']), axis=1)\n",
        "\n",
        "# Apply the same prep_text function to the 'text' column of the df_VI DataFrame\n",
        "# This will clean the text in the same way as for Episode IV and V\n",
        "df_VI['clean_text'] = df_VI.apply(lambda row: prep_text(row['text']), axis=1)\n",
        "\n",
        "# Display the first 5 rows of the df_IV DataFrame to inspect the cleaned text\n",
        "# This will show both the original 'text' column and the new 'clean_text' column\n",
        "df_IV.head(5)\n"
      ],
      "execution_count": null,
      "outputs": [
        {
          "output_type": "execute_result",
          "data": {
            "text/plain": [
              "                                                                                                                      text  \\\n",
              "0  1 \"THREEPIO\" \"Did you hear that?  They've shut down the main reactor.  We'll be destroyed for sure.  This is madness!\"    \n",
              "1  2 \"THREEPIO\" \"We're doomed!\"                                                                                              \n",
              "2  3 \"THREEPIO\" \"There'll be no escape for the Princess this time.\"                                                          \n",
              "3  4 \"THREEPIO\" \"What's that?\"                                                                                               \n",
              "4  5 \"THREEPIO\" \"I should have known better than to trust the logic of a half-sized thermocapsulary dehousing assister...\"   \n",
              "\n",
              "                                                                                                              clean_text  \n",
              "0  [did, you, hear, that, theyve, shut, down, the, main, reactor, well, be, destroyed, for, sure, this, is, madness]      \n",
              "1  [were, doomed]                                                                                                         \n",
              "2  [therell, be, no, escape, for, the, princess, this, time]                                                              \n",
              "3  [whats, that]                                                                                                          \n",
              "4  [i, should, have, known, better, than, to, trust, the, logic, of, a, halfsized, thermocapsulary, dehousing, assister]  "
            ],
            "text/html": [
              "\n",
              "  <div id=\"df-19778195-3755-48f2-b4dd-dc330f127642\" class=\"colab-df-container\">\n",
              "    <div>\n",
              "<style scoped>\n",
              "    .dataframe tbody tr th:only-of-type {\n",
              "        vertical-align: middle;\n",
              "    }\n",
              "\n",
              "    .dataframe tbody tr th {\n",
              "        vertical-align: top;\n",
              "    }\n",
              "\n",
              "    .dataframe thead th {\n",
              "        text-align: right;\n",
              "    }\n",
              "</style>\n",
              "<table border=\"1\" class=\"dataframe\">\n",
              "  <thead>\n",
              "    <tr style=\"text-align: right;\">\n",
              "      <th></th>\n",
              "      <th>text</th>\n",
              "      <th>clean_text</th>\n",
              "    </tr>\n",
              "  </thead>\n",
              "  <tbody>\n",
              "    <tr>\n",
              "      <th>0</th>\n",
              "      <td>1 \"THREEPIO\" \"Did you hear that?  They've shut down the main reactor.  We'll be destroyed for sure.  This is madness!\"</td>\n",
              "      <td>[did, you, hear, that, theyve, shut, down, the, main, reactor, well, be, destroyed, for, sure, this, is, madness]</td>\n",
              "    </tr>\n",
              "    <tr>\n",
              "      <th>1</th>\n",
              "      <td>2 \"THREEPIO\" \"We're doomed!\"</td>\n",
              "      <td>[were, doomed]</td>\n",
              "    </tr>\n",
              "    <tr>\n",
              "      <th>2</th>\n",
              "      <td>3 \"THREEPIO\" \"There'll be no escape for the Princess this time.\"</td>\n",
              "      <td>[therell, be, no, escape, for, the, princess, this, time]</td>\n",
              "    </tr>\n",
              "    <tr>\n",
              "      <th>3</th>\n",
              "      <td>4 \"THREEPIO\" \"What's that?\"</td>\n",
              "      <td>[whats, that]</td>\n",
              "    </tr>\n",
              "    <tr>\n",
              "      <th>4</th>\n",
              "      <td>5 \"THREEPIO\" \"I should have known better than to trust the logic of a half-sized thermocapsulary dehousing assister...\"</td>\n",
              "      <td>[i, should, have, known, better, than, to, trust, the, logic, of, a, halfsized, thermocapsulary, dehousing, assister]</td>\n",
              "    </tr>\n",
              "  </tbody>\n",
              "</table>\n",
              "</div>\n",
              "    <div class=\"colab-df-buttons\">\n",
              "\n",
              "  <div class=\"colab-df-container\">\n",
              "    <button class=\"colab-df-convert\" onclick=\"convertToInteractive('df-19778195-3755-48f2-b4dd-dc330f127642')\"\n",
              "            title=\"Convert this dataframe to an interactive table.\"\n",
              "            style=\"display:none;\">\n",
              "\n",
              "  <svg xmlns=\"http://www.w3.org/2000/svg\" height=\"24px\" viewBox=\"0 -960 960 960\">\n",
              "    <path d=\"M120-120v-720h720v720H120Zm60-500h600v-160H180v160Zm220 220h160v-160H400v160Zm0 220h160v-160H400v160ZM180-400h160v-160H180v160Zm440 0h160v-160H620v160ZM180-180h160v-160H180v160Zm440 0h160v-160H620v160Z\"/>\n",
              "  </svg>\n",
              "    </button>\n",
              "\n",
              "  <style>\n",
              "    .colab-df-container {\n",
              "      display:flex;\n",
              "      gap: 12px;\n",
              "    }\n",
              "\n",
              "    .colab-df-convert {\n",
              "      background-color: #E8F0FE;\n",
              "      border: none;\n",
              "      border-radius: 50%;\n",
              "      cursor: pointer;\n",
              "      display: none;\n",
              "      fill: #1967D2;\n",
              "      height: 32px;\n",
              "      padding: 0 0 0 0;\n",
              "      width: 32px;\n",
              "    }\n",
              "\n",
              "    .colab-df-convert:hover {\n",
              "      background-color: #E2EBFA;\n",
              "      box-shadow: 0px 1px 2px rgba(60, 64, 67, 0.3), 0px 1px 3px 1px rgba(60, 64, 67, 0.15);\n",
              "      fill: #174EA6;\n",
              "    }\n",
              "\n",
              "    .colab-df-buttons div {\n",
              "      margin-bottom: 4px;\n",
              "    }\n",
              "\n",
              "    [theme=dark] .colab-df-convert {\n",
              "      background-color: #3B4455;\n",
              "      fill: #D2E3FC;\n",
              "    }\n",
              "\n",
              "    [theme=dark] .colab-df-convert:hover {\n",
              "      background-color: #434B5C;\n",
              "      box-shadow: 0px 1px 3px 1px rgba(0, 0, 0, 0.15);\n",
              "      filter: drop-shadow(0px 1px 2px rgba(0, 0, 0, 0.3));\n",
              "      fill: #FFFFFF;\n",
              "    }\n",
              "  </style>\n",
              "\n",
              "    <script>\n",
              "      const buttonEl =\n",
              "        document.querySelector('#df-19778195-3755-48f2-b4dd-dc330f127642 button.colab-df-convert');\n",
              "      buttonEl.style.display =\n",
              "        google.colab.kernel.accessAllowed ? 'block' : 'none';\n",
              "\n",
              "      async function convertToInteractive(key) {\n",
              "        const element = document.querySelector('#df-19778195-3755-48f2-b4dd-dc330f127642');\n",
              "        const dataTable =\n",
              "          await google.colab.kernel.invokeFunction('convertToInteractive',\n",
              "                                                    [key], {});\n",
              "        if (!dataTable) return;\n",
              "\n",
              "        const docLinkHtml = 'Like what you see? Visit the ' +\n",
              "          '<a target=\"_blank\" href=https://colab.research.google.com/notebooks/data_table.ipynb>data table notebook</a>'\n",
              "          + ' to learn more about interactive tables.';\n",
              "        element.innerHTML = '';\n",
              "        dataTable['output_type'] = 'display_data';\n",
              "        await google.colab.output.renderOutput(dataTable, element);\n",
              "        const docLink = document.createElement('div');\n",
              "        docLink.innerHTML = docLinkHtml;\n",
              "        element.appendChild(docLink);\n",
              "      }\n",
              "    </script>\n",
              "  </div>\n",
              "\n",
              "\n",
              "<div id=\"df-4e4ad3b7-d16c-4d93-b53f-fcc065bd9914\">\n",
              "  <button class=\"colab-df-quickchart\" onclick=\"quickchart('df-4e4ad3b7-d16c-4d93-b53f-fcc065bd9914')\"\n",
              "            title=\"Suggest charts\"\n",
              "            style=\"display:none;\">\n",
              "\n",
              "<svg xmlns=\"http://www.w3.org/2000/svg\" height=\"24px\"viewBox=\"0 0 24 24\"\n",
              "     width=\"24px\">\n",
              "    <g>\n",
              "        <path d=\"M19 3H5c-1.1 0-2 .9-2 2v14c0 1.1.9 2 2 2h14c1.1 0 2-.9 2-2V5c0-1.1-.9-2-2-2zM9 17H7v-7h2v7zm4 0h-2V7h2v10zm4 0h-2v-4h2v4z\"/>\n",
              "    </g>\n",
              "</svg>\n",
              "  </button>\n",
              "\n",
              "<style>\n",
              "  .colab-df-quickchart {\n",
              "      --bg-color: #E8F0FE;\n",
              "      --fill-color: #1967D2;\n",
              "      --hover-bg-color: #E2EBFA;\n",
              "      --hover-fill-color: #174EA6;\n",
              "      --disabled-fill-color: #AAA;\n",
              "      --disabled-bg-color: #DDD;\n",
              "  }\n",
              "\n",
              "  [theme=dark] .colab-df-quickchart {\n",
              "      --bg-color: #3B4455;\n",
              "      --fill-color: #D2E3FC;\n",
              "      --hover-bg-color: #434B5C;\n",
              "      --hover-fill-color: #FFFFFF;\n",
              "      --disabled-bg-color: #3B4455;\n",
              "      --disabled-fill-color: #666;\n",
              "  }\n",
              "\n",
              "  .colab-df-quickchart {\n",
              "    background-color: var(--bg-color);\n",
              "    border: none;\n",
              "    border-radius: 50%;\n",
              "    cursor: pointer;\n",
              "    display: none;\n",
              "    fill: var(--fill-color);\n",
              "    height: 32px;\n",
              "    padding: 0;\n",
              "    width: 32px;\n",
              "  }\n",
              "\n",
              "  .colab-df-quickchart:hover {\n",
              "    background-color: var(--hover-bg-color);\n",
              "    box-shadow: 0 1px 2px rgba(60, 64, 67, 0.3), 0 1px 3px 1px rgba(60, 64, 67, 0.15);\n",
              "    fill: var(--button-hover-fill-color);\n",
              "  }\n",
              "\n",
              "  .colab-df-quickchart-complete:disabled,\n",
              "  .colab-df-quickchart-complete:disabled:hover {\n",
              "    background-color: var(--disabled-bg-color);\n",
              "    fill: var(--disabled-fill-color);\n",
              "    box-shadow: none;\n",
              "  }\n",
              "\n",
              "  .colab-df-spinner {\n",
              "    border: 2px solid var(--fill-color);\n",
              "    border-color: transparent;\n",
              "    border-bottom-color: var(--fill-color);\n",
              "    animation:\n",
              "      spin 1s steps(1) infinite;\n",
              "  }\n",
              "\n",
              "  @keyframes spin {\n",
              "    0% {\n",
              "      border-color: transparent;\n",
              "      border-bottom-color: var(--fill-color);\n",
              "      border-left-color: var(--fill-color);\n",
              "    }\n",
              "    20% {\n",
              "      border-color: transparent;\n",
              "      border-left-color: var(--fill-color);\n",
              "      border-top-color: var(--fill-color);\n",
              "    }\n",
              "    30% {\n",
              "      border-color: transparent;\n",
              "      border-left-color: var(--fill-color);\n",
              "      border-top-color: var(--fill-color);\n",
              "      border-right-color: var(--fill-color);\n",
              "    }\n",
              "    40% {\n",
              "      border-color: transparent;\n",
              "      border-right-color: var(--fill-color);\n",
              "      border-top-color: var(--fill-color);\n",
              "    }\n",
              "    60% {\n",
              "      border-color: transparent;\n",
              "      border-right-color: var(--fill-color);\n",
              "    }\n",
              "    80% {\n",
              "      border-color: transparent;\n",
              "      border-right-color: var(--fill-color);\n",
              "      border-bottom-color: var(--fill-color);\n",
              "    }\n",
              "    90% {\n",
              "      border-color: transparent;\n",
              "      border-bottom-color: var(--fill-color);\n",
              "    }\n",
              "  }\n",
              "</style>\n",
              "\n",
              "  <script>\n",
              "    async function quickchart(key) {\n",
              "      const quickchartButtonEl =\n",
              "        document.querySelector('#' + key + ' button');\n",
              "      quickchartButtonEl.disabled = true;  // To prevent multiple clicks.\n",
              "      quickchartButtonEl.classList.add('colab-df-spinner');\n",
              "      try {\n",
              "        const charts = await google.colab.kernel.invokeFunction(\n",
              "            'suggestCharts', [key], {});\n",
              "      } catch (error) {\n",
              "        console.error('Error during call to suggestCharts:', error);\n",
              "      }\n",
              "      quickchartButtonEl.classList.remove('colab-df-spinner');\n",
              "      quickchartButtonEl.classList.add('colab-df-quickchart-complete');\n",
              "    }\n",
              "    (() => {\n",
              "      let quickchartButtonEl =\n",
              "        document.querySelector('#df-4e4ad3b7-d16c-4d93-b53f-fcc065bd9914 button');\n",
              "      quickchartButtonEl.style.display =\n",
              "        google.colab.kernel.accessAllowed ? 'block' : 'none';\n",
              "    })();\n",
              "  </script>\n",
              "</div>\n",
              "\n",
              "    </div>\n",
              "  </div>\n"
            ],
            "application/vnd.google.colaboratory.intrinsic+json": {
              "type": "dataframe",
              "variable_name": "df_IV",
              "summary": "{\n  \"name\": \"df_IV\",\n  \"rows\": 1010,\n  \"fields\": [\n    {\n      \"column\": \"text\",\n      \"properties\": {\n        \"dtype\": \"string\",\n        \"num_unique_values\": 1010,\n        \"samples\": [\n          \"630 \\\"HAN\\\" \\\"Can't get out that way.\\\"\",\n          \"789 \\\"HAN\\\" \\\"It is for me, sister!  Look, I ain't in this for your revolution, and I'm not in it for you, Princess.  I expect to be well paid.  I'm in it for the money!\\\"\",\n          \"685 \\\"THREEPIO\\\" \\\"They aren't here!  Something must have happened to them.  See if they've been captured.\\\"\"\n        ],\n        \"semantic_type\": \"\",\n        \"description\": \"\"\n      }\n    },\n    {\n      \"column\": \"clean_text\",\n      \"properties\": {\n        \"dtype\": \"object\",\n        \"semantic_type\": \"\",\n        \"description\": \"\"\n      }\n    }\n  ]\n}"
            }
          },
          "metadata": {},
          "execution_count": 10
        }
      ]
    },
    {
      "source": [
        "from google.colab import sheets\n",
        "sheet = sheets.InteractiveSheet(df=df_IV)"
      ],
      "cell_type": "code",
      "execution_count": null,
      "outputs": [
        {
          "output_type": "stream",
          "name": "stdout",
          "text": [
            "https://docs.google.com/spreadsheets/d/1cqz7JolC3Hlztj26OZxtAfPVz7_wMzWY_LwxT-gAbJI#gid=0\n"
          ]
        },
        {
          "output_type": "stream",
          "name": "stderr",
          "text": [
            "/usr/local/lib/python3.10/dist-packages/google/colab/sheets.py:31: FutureWarning: DataFrame.applymap has been deprecated. Use DataFrame.map instead.\n",
            "  return frame.applymap(_clean_val).replace({np.nan: None})\n"
          ]
        },
        {
          "output_type": "display_data",
          "data": {
            "text/plain": [
              "<IPython.lib.display.IFrame at 0x789d4333d420>"
            ],
            "text/html": [
              "\n",
              "        <iframe\n",
              "            width=\"100%\"\n",
              "            height=\"600\"\n",
              "            src=\"https://docs.google.com/spreadsheets/d/1cqz7JolC3Hlztj26OZxtAfPVz7_wMzWY_LwxT-gAbJI#gid=0/edit?rm=embedded?usp=sharing?widget=true&amp;headers=false\"\n",
              "            frameborder=\"0\"\n",
              "            allowfullscreen\n",
              "            \n",
              "        ></iframe>\n",
              "        "
            ]
          },
          "metadata": {}
        }
      ],
      "metadata": {
        "cellView": "form",
        "id": "8ZskdxvcMWLG",
        "outputId": "f45804f3-fac1-4d3f-b199-f5745c19c999",
        "colab": {
          "base_uri": "https://localhost:8080/",
          "height": 673
        }
      }
    },
    {
      "metadata": {
        "_cell_guid": "4988e2d6-bcc2-4e29-a3e2-947d3ca56c5e",
        "_kg_hide-input": false,
        "_kg_hide-output": false,
        "_uuid": "eb6f036f3013f53086e1abad66c1677b3149f630",
        "collapsed": true,
        "trusted": true,
        "id": "BmFEbMi5Gr0g",
        "outputId": "248a944a-e25f-4d81-e963-ae6b1a97c525",
        "colab": {
          "base_uri": "https://localhost:8080/",
          "height": 206
        }
      },
      "cell_type": "code",
      "source": [
        "# Concatenate the DataFrames df_IV, df_V, and df_VI along rows (axis=0)\n",
        "# This combines the data from all three episodes into a single DataFrame.\n",
        "df = pd.concat([df_IV, df_V, df_VI])\n",
        "\n",
        "# Display the first 5 rows of the concatenated DataFrame to ensure it was combined correctly\n",
        "df.head(5)"
      ],
      "execution_count": null,
      "outputs": [
        {
          "output_type": "execute_result",
          "data": {
            "text/plain": [
              "                                                                                                                      text  \\\n",
              "0  1 \"THREEPIO\" \"Did you hear that?  They've shut down the main reactor.  We'll be destroyed for sure.  This is madness!\"    \n",
              "1  2 \"THREEPIO\" \"We're doomed!\"                                                                                              \n",
              "2  3 \"THREEPIO\" \"There'll be no escape for the Princess this time.\"                                                          \n",
              "3  4 \"THREEPIO\" \"What's that?\"                                                                                               \n",
              "4  5 \"THREEPIO\" \"I should have known better than to trust the logic of a half-sized thermocapsulary dehousing assister...\"   \n",
              "\n",
              "                                                                                                              clean_text  \n",
              "0  [did, you, hear, that, theyve, shut, down, the, main, reactor, well, be, destroyed, for, sure, this, is, madness]      \n",
              "1  [were, doomed]                                                                                                         \n",
              "2  [therell, be, no, escape, for, the, princess, this, time]                                                              \n",
              "3  [whats, that]                                                                                                          \n",
              "4  [i, should, have, known, better, than, to, trust, the, logic, of, a, halfsized, thermocapsulary, dehousing, assister]  "
            ],
            "text/html": [
              "\n",
              "  <div id=\"df-926e4d49-bfb0-4881-986a-142e0f324e59\" class=\"colab-df-container\">\n",
              "    <div>\n",
              "<style scoped>\n",
              "    .dataframe tbody tr th:only-of-type {\n",
              "        vertical-align: middle;\n",
              "    }\n",
              "\n",
              "    .dataframe tbody tr th {\n",
              "        vertical-align: top;\n",
              "    }\n",
              "\n",
              "    .dataframe thead th {\n",
              "        text-align: right;\n",
              "    }\n",
              "</style>\n",
              "<table border=\"1\" class=\"dataframe\">\n",
              "  <thead>\n",
              "    <tr style=\"text-align: right;\">\n",
              "      <th></th>\n",
              "      <th>text</th>\n",
              "      <th>clean_text</th>\n",
              "    </tr>\n",
              "  </thead>\n",
              "  <tbody>\n",
              "    <tr>\n",
              "      <th>0</th>\n",
              "      <td>1 \"THREEPIO\" \"Did you hear that?  They've shut down the main reactor.  We'll be destroyed for sure.  This is madness!\"</td>\n",
              "      <td>[did, you, hear, that, theyve, shut, down, the, main, reactor, well, be, destroyed, for, sure, this, is, madness]</td>\n",
              "    </tr>\n",
              "    <tr>\n",
              "      <th>1</th>\n",
              "      <td>2 \"THREEPIO\" \"We're doomed!\"</td>\n",
              "      <td>[were, doomed]</td>\n",
              "    </tr>\n",
              "    <tr>\n",
              "      <th>2</th>\n",
              "      <td>3 \"THREEPIO\" \"There'll be no escape for the Princess this time.\"</td>\n",
              "      <td>[therell, be, no, escape, for, the, princess, this, time]</td>\n",
              "    </tr>\n",
              "    <tr>\n",
              "      <th>3</th>\n",
              "      <td>4 \"THREEPIO\" \"What's that?\"</td>\n",
              "      <td>[whats, that]</td>\n",
              "    </tr>\n",
              "    <tr>\n",
              "      <th>4</th>\n",
              "      <td>5 \"THREEPIO\" \"I should have known better than to trust the logic of a half-sized thermocapsulary dehousing assister...\"</td>\n",
              "      <td>[i, should, have, known, better, than, to, trust, the, logic, of, a, halfsized, thermocapsulary, dehousing, assister]</td>\n",
              "    </tr>\n",
              "  </tbody>\n",
              "</table>\n",
              "</div>\n",
              "    <div class=\"colab-df-buttons\">\n",
              "\n",
              "  <div class=\"colab-df-container\">\n",
              "    <button class=\"colab-df-convert\" onclick=\"convertToInteractive('df-926e4d49-bfb0-4881-986a-142e0f324e59')\"\n",
              "            title=\"Convert this dataframe to an interactive table.\"\n",
              "            style=\"display:none;\">\n",
              "\n",
              "  <svg xmlns=\"http://www.w3.org/2000/svg\" height=\"24px\" viewBox=\"0 -960 960 960\">\n",
              "    <path d=\"M120-120v-720h720v720H120Zm60-500h600v-160H180v160Zm220 220h160v-160H400v160Zm0 220h160v-160H400v160ZM180-400h160v-160H180v160Zm440 0h160v-160H620v160ZM180-180h160v-160H180v160Zm440 0h160v-160H620v160Z\"/>\n",
              "  </svg>\n",
              "    </button>\n",
              "\n",
              "  <style>\n",
              "    .colab-df-container {\n",
              "      display:flex;\n",
              "      gap: 12px;\n",
              "    }\n",
              "\n",
              "    .colab-df-convert {\n",
              "      background-color: #E8F0FE;\n",
              "      border: none;\n",
              "      border-radius: 50%;\n",
              "      cursor: pointer;\n",
              "      display: none;\n",
              "      fill: #1967D2;\n",
              "      height: 32px;\n",
              "      padding: 0 0 0 0;\n",
              "      width: 32px;\n",
              "    }\n",
              "\n",
              "    .colab-df-convert:hover {\n",
              "      background-color: #E2EBFA;\n",
              "      box-shadow: 0px 1px 2px rgba(60, 64, 67, 0.3), 0px 1px 3px 1px rgba(60, 64, 67, 0.15);\n",
              "      fill: #174EA6;\n",
              "    }\n",
              "\n",
              "    .colab-df-buttons div {\n",
              "      margin-bottom: 4px;\n",
              "    }\n",
              "\n",
              "    [theme=dark] .colab-df-convert {\n",
              "      background-color: #3B4455;\n",
              "      fill: #D2E3FC;\n",
              "    }\n",
              "\n",
              "    [theme=dark] .colab-df-convert:hover {\n",
              "      background-color: #434B5C;\n",
              "      box-shadow: 0px 1px 3px 1px rgba(0, 0, 0, 0.15);\n",
              "      filter: drop-shadow(0px 1px 2px rgba(0, 0, 0, 0.3));\n",
              "      fill: #FFFFFF;\n",
              "    }\n",
              "  </style>\n",
              "\n",
              "    <script>\n",
              "      const buttonEl =\n",
              "        document.querySelector('#df-926e4d49-bfb0-4881-986a-142e0f324e59 button.colab-df-convert');\n",
              "      buttonEl.style.display =\n",
              "        google.colab.kernel.accessAllowed ? 'block' : 'none';\n",
              "\n",
              "      async function convertToInteractive(key) {\n",
              "        const element = document.querySelector('#df-926e4d49-bfb0-4881-986a-142e0f324e59');\n",
              "        const dataTable =\n",
              "          await google.colab.kernel.invokeFunction('convertToInteractive',\n",
              "                                                    [key], {});\n",
              "        if (!dataTable) return;\n",
              "\n",
              "        const docLinkHtml = 'Like what you see? Visit the ' +\n",
              "          '<a target=\"_blank\" href=https://colab.research.google.com/notebooks/data_table.ipynb>data table notebook</a>'\n",
              "          + ' to learn more about interactive tables.';\n",
              "        element.innerHTML = '';\n",
              "        dataTable['output_type'] = 'display_data';\n",
              "        await google.colab.output.renderOutput(dataTable, element);\n",
              "        const docLink = document.createElement('div');\n",
              "        docLink.innerHTML = docLinkHtml;\n",
              "        element.appendChild(docLink);\n",
              "      }\n",
              "    </script>\n",
              "  </div>\n",
              "\n",
              "\n",
              "<div id=\"df-17e4366a-8e85-4e0d-a0fe-2f25f3528059\">\n",
              "  <button class=\"colab-df-quickchart\" onclick=\"quickchart('df-17e4366a-8e85-4e0d-a0fe-2f25f3528059')\"\n",
              "            title=\"Suggest charts\"\n",
              "            style=\"display:none;\">\n",
              "\n",
              "<svg xmlns=\"http://www.w3.org/2000/svg\" height=\"24px\"viewBox=\"0 0 24 24\"\n",
              "     width=\"24px\">\n",
              "    <g>\n",
              "        <path d=\"M19 3H5c-1.1 0-2 .9-2 2v14c0 1.1.9 2 2 2h14c1.1 0 2-.9 2-2V5c0-1.1-.9-2-2-2zM9 17H7v-7h2v7zm4 0h-2V7h2v10zm4 0h-2v-4h2v4z\"/>\n",
              "    </g>\n",
              "</svg>\n",
              "  </button>\n",
              "\n",
              "<style>\n",
              "  .colab-df-quickchart {\n",
              "      --bg-color: #E8F0FE;\n",
              "      --fill-color: #1967D2;\n",
              "      --hover-bg-color: #E2EBFA;\n",
              "      --hover-fill-color: #174EA6;\n",
              "      --disabled-fill-color: #AAA;\n",
              "      --disabled-bg-color: #DDD;\n",
              "  }\n",
              "\n",
              "  [theme=dark] .colab-df-quickchart {\n",
              "      --bg-color: #3B4455;\n",
              "      --fill-color: #D2E3FC;\n",
              "      --hover-bg-color: #434B5C;\n",
              "      --hover-fill-color: #FFFFFF;\n",
              "      --disabled-bg-color: #3B4455;\n",
              "      --disabled-fill-color: #666;\n",
              "  }\n",
              "\n",
              "  .colab-df-quickchart {\n",
              "    background-color: var(--bg-color);\n",
              "    border: none;\n",
              "    border-radius: 50%;\n",
              "    cursor: pointer;\n",
              "    display: none;\n",
              "    fill: var(--fill-color);\n",
              "    height: 32px;\n",
              "    padding: 0;\n",
              "    width: 32px;\n",
              "  }\n",
              "\n",
              "  .colab-df-quickchart:hover {\n",
              "    background-color: var(--hover-bg-color);\n",
              "    box-shadow: 0 1px 2px rgba(60, 64, 67, 0.3), 0 1px 3px 1px rgba(60, 64, 67, 0.15);\n",
              "    fill: var(--button-hover-fill-color);\n",
              "  }\n",
              "\n",
              "  .colab-df-quickchart-complete:disabled,\n",
              "  .colab-df-quickchart-complete:disabled:hover {\n",
              "    background-color: var(--disabled-bg-color);\n",
              "    fill: var(--disabled-fill-color);\n",
              "    box-shadow: none;\n",
              "  }\n",
              "\n",
              "  .colab-df-spinner {\n",
              "    border: 2px solid var(--fill-color);\n",
              "    border-color: transparent;\n",
              "    border-bottom-color: var(--fill-color);\n",
              "    animation:\n",
              "      spin 1s steps(1) infinite;\n",
              "  }\n",
              "\n",
              "  @keyframes spin {\n",
              "    0% {\n",
              "      border-color: transparent;\n",
              "      border-bottom-color: var(--fill-color);\n",
              "      border-left-color: var(--fill-color);\n",
              "    }\n",
              "    20% {\n",
              "      border-color: transparent;\n",
              "      border-left-color: var(--fill-color);\n",
              "      border-top-color: var(--fill-color);\n",
              "    }\n",
              "    30% {\n",
              "      border-color: transparent;\n",
              "      border-left-color: var(--fill-color);\n",
              "      border-top-color: var(--fill-color);\n",
              "      border-right-color: var(--fill-color);\n",
              "    }\n",
              "    40% {\n",
              "      border-color: transparent;\n",
              "      border-right-color: var(--fill-color);\n",
              "      border-top-color: var(--fill-color);\n",
              "    }\n",
              "    60% {\n",
              "      border-color: transparent;\n",
              "      border-right-color: var(--fill-color);\n",
              "    }\n",
              "    80% {\n",
              "      border-color: transparent;\n",
              "      border-right-color: var(--fill-color);\n",
              "      border-bottom-color: var(--fill-color);\n",
              "    }\n",
              "    90% {\n",
              "      border-color: transparent;\n",
              "      border-bottom-color: var(--fill-color);\n",
              "    }\n",
              "  }\n",
              "</style>\n",
              "\n",
              "  <script>\n",
              "    async function quickchart(key) {\n",
              "      const quickchartButtonEl =\n",
              "        document.querySelector('#' + key + ' button');\n",
              "      quickchartButtonEl.disabled = true;  // To prevent multiple clicks.\n",
              "      quickchartButtonEl.classList.add('colab-df-spinner');\n",
              "      try {\n",
              "        const charts = await google.colab.kernel.invokeFunction(\n",
              "            'suggestCharts', [key], {});\n",
              "      } catch (error) {\n",
              "        console.error('Error during call to suggestCharts:', error);\n",
              "      }\n",
              "      quickchartButtonEl.classList.remove('colab-df-spinner');\n",
              "      quickchartButtonEl.classList.add('colab-df-quickchart-complete');\n",
              "    }\n",
              "    (() => {\n",
              "      let quickchartButtonEl =\n",
              "        document.querySelector('#df-17e4366a-8e85-4e0d-a0fe-2f25f3528059 button');\n",
              "      quickchartButtonEl.style.display =\n",
              "        google.colab.kernel.accessAllowed ? 'block' : 'none';\n",
              "    })();\n",
              "  </script>\n",
              "</div>\n",
              "\n",
              "    </div>\n",
              "  </div>\n"
            ],
            "application/vnd.google.colaboratory.intrinsic+json": {
              "type": "dataframe",
              "variable_name": "df",
              "summary": "{\n  \"name\": \"df\",\n  \"rows\": 2523,\n  \"fields\": [\n    {\n      \"column\": \"text\",\n      \"properties\": {\n        \"dtype\": \"string\",\n        \"num_unique_values\": 2523,\n        \"samples\": [\n          \"79 \\\"HAN\\\" \\\"Where am I?\\\"\",\n          \"297 \\\"LUKE\\\" \\\"These are the same Jawas that sold us Artoo and Threepio.\\\"\",\n          \"486 \\\"LUKE\\\" \\\"Maybe they know what happened.\\\"\"\n        ],\n        \"semantic_type\": \"\",\n        \"description\": \"\"\n      }\n    },\n    {\n      \"column\": \"clean_text\",\n      \"properties\": {\n        \"dtype\": \"object\",\n        \"semantic_type\": \"\",\n        \"description\": \"\"\n      }\n    }\n  ]\n}"
            }
          },
          "metadata": {},
          "execution_count": 12
        }
      ]
    },
    {
      "source": [
        "from google.colab import sheets\n",
        "sheet = sheets.InteractiveSheet(df=df)"
      ],
      "cell_type": "code",
      "execution_count": null,
      "outputs": [
        {
          "output_type": "stream",
          "name": "stdout",
          "text": [
            "https://docs.google.com/spreadsheets/d/10BM_BQkHMu54tgZZ-8Rlp3PsfqG1hzPTTmeIDg7nzxg#gid=0\n"
          ]
        },
        {
          "output_type": "stream",
          "name": "stderr",
          "text": [
            "/usr/local/lib/python3.10/dist-packages/google/colab/sheets.py:31: FutureWarning: DataFrame.applymap has been deprecated. Use DataFrame.map instead.\n",
            "  return frame.applymap(_clean_val).replace({np.nan: None})\n"
          ]
        },
        {
          "output_type": "display_data",
          "data": {
            "text/plain": [
              "<IPython.lib.display.IFrame at 0x789d128cba60>"
            ],
            "text/html": [
              "\n",
              "        <iframe\n",
              "            width=\"100%\"\n",
              "            height=\"600\"\n",
              "            src=\"https://docs.google.com/spreadsheets/d/10BM_BQkHMu54tgZZ-8Rlp3PsfqG1hzPTTmeIDg7nzxg#gid=0/edit?rm=embedded?usp=sharing?widget=true&amp;headers=false\"\n",
              "            frameborder=\"0\"\n",
              "            allowfullscreen\n",
              "            \n",
              "        ></iframe>\n",
              "        "
            ]
          },
          "metadata": {}
        }
      ],
      "metadata": {
        "cellView": "form",
        "id": "VRe72npsMha1",
        "outputId": "2625ac5b-4d5e-42c0-f1d5-fa1e45035953",
        "colab": {
          "base_uri": "https://localhost:8080/",
          "height": 673
        }
      }
    },
    {
      "metadata": {
        "_cell_guid": "d02e871f-39c0-4c07-a1e6-aa684f4350b7",
        "_kg_hide-input": false,
        "_kg_hide-output": false,
        "_uuid": "add262704daac3cc93923be52476db0a1fb45c34",
        "collapsed": true,
        "trusted": true,
        "id": "_GPJltxDGr0h"
      },
      "cell_type": "code",
      "source": [
        "# Initialize an empty list to store the sentences (cleaned text)\n",
        "sentences = list()\n",
        "\n",
        "# Iterate over each row in the DataFrame using iterrows()\n",
        "# This allows us to access both the index (idx) and the row itself\n",
        "for idx, row in df.iterrows():\n",
        "    # For each row, we append the cleaned text (from the 'clean_text' column) to the sentences list\n",
        "    sentences.append(row['clean_text'])\n",
        "\n",
        "# After running the loop, the 'sentences' list will contain all the cleaned sentences from the 'clean_text' column"
      ],
      "execution_count": null,
      "outputs": []
    },
    {
      "metadata": {
        "_cell_guid": "7311d467-c1e6-471d-bc37-293860a75d50",
        "_kg_hide-input": false,
        "_kg_hide-output": false,
        "_uuid": "b8ab24a3bc70c0f6d25b149630c0cdee87256a0e",
        "trusted": true,
        "id": "dXEWZOmPGr0h",
        "outputId": "cb2f8b91-8288-4569-b50b-d7e100ce6131",
        "colab": {
          "base_uri": "https://localhost:8080/"
        }
      },
      "cell_type": "code",
      "source": [
        "sentences[:3]"
      ],
      "execution_count": null,
      "outputs": [
        {
          "output_type": "execute_result",
          "data": {
            "text/plain": [
              "[['did',\n",
              "  'you',\n",
              "  'hear',\n",
              "  'that',\n",
              "  'theyve',\n",
              "  'shut',\n",
              "  'down',\n",
              "  'the',\n",
              "  'main',\n",
              "  'reactor',\n",
              "  'well',\n",
              "  'be',\n",
              "  'destroyed',\n",
              "  'for',\n",
              "  'sure',\n",
              "  'this',\n",
              "  'is',\n",
              "  'madness'],\n",
              " ['were', 'doomed'],\n",
              " ['therell', 'be', 'no', 'escape', 'for', 'the', 'princess', 'this', 'time']]"
            ]
          },
          "metadata": {},
          "execution_count": 15
        }
      ]
    },
    {
      "metadata": {
        "_cell_guid": "0a8e35d7-9c61-44ae-b2af-2472b5b0718e",
        "_kg_hide-input": false,
        "_kg_hide-output": false,
        "_uuid": "879b36bcfc00e561b68437fd147876565ace4356",
        "collapsed": true,
        "trusted": true,
        "id": "uZBYio22Gr0i"
      },
      "cell_type": "code",
      "source": [
        "# Flatten the list of lists ('sentences') into a single list ('flat_list')\n",
        "# This is done using a list comprehension that loops through each sublist (each sentence) in 'sentences'\n",
        "# and extracts each word (item) from the sublist, effectively combining all the words into one list.\n",
        "flat_list = [item for sublist in sentences for item in sublist]\n",
        "\n",
        "# Now 'flat_list' contains all the individual words from the entire dataset,\n",
        "# flattened into a single list (removing the structure of sentences)."
      ],
      "execution_count": null,
      "outputs": []
    },
    {
      "metadata": {
        "_cell_guid": "0d71a36b-2679-49f9-8141-f223500dbb9a",
        "_kg_hide-input": false,
        "_kg_hide-output": false,
        "_uuid": "575408c16b0fe6cdb7db982868060740db16b3ee",
        "collapsed": true,
        "trusted": true,
        "id": "LnlV7f_bGr0k"
      },
      "cell_type": "code",
      "source": [
        "# Convert the flattened list 'flat_list' into a pandas DataFrame\n",
        "# Each word in 'flat_list' will be placed in a new row of the DataFrame\n",
        "df_clean = pd.DataFrame(flat_list)\n",
        "\n",
        "# Rename the single column in the DataFrame to 'clean' for clarity\n",
        "# This column will now represent the individual words from the entire dataset\n",
        "df_clean.columns = ['clean']\n",
        "\n",
        "# The DataFrame 'df_clean' now contains a single column called 'clean',\n",
        "# where each row corresponds to a word from the flattened 'flat_list'.\n"
      ],
      "execution_count": null,
      "outputs": []
    },
    {
      "metadata": {
        "_cell_guid": "a90b7cee-6ecd-4fff-b5c2-bf05a97cf97c",
        "_kg_hide-input": false,
        "_kg_hide-output": false,
        "_uuid": "8e87f3e069bbe0d038a4faf6985ae1481f3b8fc5",
        "collapsed": true,
        "trusted": true,
        "id": "UCXPGzpVGr0l"
      },
      "cell_type": "code",
      "source": [
        "# Create a new column 'lengths' in the DataFrame df_clean\n",
        "# This column will store the length of each word (the number of characters in each word) in the 'clean' column\n",
        "df_clean['lengths'] = df_clean.apply(lambda row: len(row['clean']), axis=1)\n",
        "\n",
        "# The 'apply' function is used to apply a lambda function to each row.\n",
        "# The lambda function calculates the length of each word by applying the len() function to the value in the 'clean' column."
      ],
      "execution_count": null,
      "outputs": []
    },
    {
      "metadata": {
        "_uuid": "b8de958c038c9feb498a1372ea960e719248e8d0",
        "id": "tEIDFPQQGr0l"
      },
      "cell_type": "markdown",
      "source": [
        "What does the distribution of word lengths look like? As you can see it's pretty heavily weighted to words of less than about 5 characters"
      ]
    },
    {
      "metadata": {
        "_cell_guid": "20d76794-c044-4beb-8101-2bf70617aa95",
        "_uuid": "cdc41f72bd7e7eccfdd860d50ff8af526bc09ca6",
        "trusted": true,
        "id": "pIS6vZcLGr0m",
        "outputId": "0ddb2f2e-fa42-4b0a-95b5-c4ada06a474e",
        "colab": {
          "base_uri": "https://localhost:8080/",
          "height": 447
        }
      },
      "cell_type": "code",
      "source": [
        "# Plot a histogram of the 'lengths' column from the df_clean DataFrame\n",
        "# The 'kind='hist'' argument specifies that the plot should be a histogram\n",
        "df_clean['lengths'].plot(kind='hist')\n",
        "\n",
        "# This will visualize the distribution of word lengths in the dataset.\n",
        "# The histogram will display the frequency of different word lengths."
      ],
      "execution_count": null,
      "outputs": [
        {
          "output_type": "execute_result",
          "data": {
            "text/plain": [
              "<Axes: ylabel='Frequency'>"
            ]
          },
          "metadata": {},
          "execution_count": 19
        },
        {
          "output_type": "display_data",
          "data": {
            "text/plain": [
              "<Figure size 640x480 with 1 Axes>"
            ],
            "image/png": "[encoded data removed]"
          },
          "metadata": {}
        }
      ]
    },
    {
      "metadata": {
        "_cell_guid": "7099366c-41d6-4907-a06d-1e9a13442e1c",
        "_kg_hide-input": false,
        "_kg_hide-output": false,
        "_uuid": "b6c191b00feaa147bf3c454aabb4c278a28f3142",
        "collapsed": true,
        "trusted": true,
        "id": "s_hPAv_YGr0m"
      },
      "cell_type": "code",
      "source": [
        "# Initialize an empty list to store the processed words\n",
        "y = []\n",
        "\n",
        "# Loop through each element (word list) in the 'clean' column of the df_clean DataFrame\n",
        "for item in df_clean['clean'].values:\n",
        "    # Convert each word (a string) into a list of characters\n",
        "    l = list(item)\n",
        "\n",
        "    # Append the special end-of-word token \"<eow>\" to the list of characters\n",
        "    l.append(\"<eow>\")\n",
        "\n",
        "    # Add the modified list (with characters and \"<eow>\" token) to the list 'y'\n",
        "    y.append(l)\n",
        "\n",
        "# The 'y' list now contains each word split into a list of characters, with \"<eow>\" added at the end of each word\n"
      ],
      "execution_count": null,
      "outputs": []
    },
    {
      "metadata": {
        "_cell_guid": "31ce1d9d-7cc0-4b16-b9b0-accd55374a33",
        "_uuid": "2591b69ed77f554ece13c692172caaeeb9e7eb66",
        "trusted": true,
        "id": "jQIdve-eGr0n",
        "outputId": "7b9bd1c9-6958-4fb1-f52d-22d531a3c7d7",
        "colab": {
          "base_uri": "https://localhost:8080/"
        }
      },
      "cell_type": "code",
      "source": [
        "y[:5]"
      ],
      "execution_count": null,
      "outputs": [
        {
          "output_type": "execute_result",
          "data": {
            "text/plain": [
              "[['d', 'i', 'd', '<eow>'],\n",
              " ['y', 'o', 'u', '<eow>'],\n",
              " ['h', 'e', 'a', 'r', '<eow>'],\n",
              " ['t', 'h', 'a', 't', '<eow>'],\n",
              " ['t', 'h', 'e', 'y', 'v', 'e', '<eow>']]"
            ]
          },
          "metadata": {},
          "execution_count": 21
        }
      ]
    },
    {
      "metadata": {
        "_cell_guid": "5a1a88cc-80c4-4e74-a188-b85e26cf49ca",
        "_uuid": "759da0a82b818c386f1eba908aa6ad6a586c33fa",
        "trusted": true,
        "id": "7TQ8UW9iGr0n",
        "outputId": "077ad992-c4ff-43d2-eaab-a16051550b80",
        "colab": {
          "base_uri": "https://localhost:8080/"
        }
      },
      "cell_type": "code",
      "source": [
        "# Calculate the number of unique words in the 'clean' column of the df_clean DataFrame\n",
        "# The .unique() method returns an array of unique values in the 'clean' column\n",
        "out_len = len(df_clean['clean'].unique())\n",
        "\n",
        "# The variable 'out_len' now holds the count of unique words in the 'clean' column\n",
        "out_len\n"
      ],
      "execution_count": null,
      "outputs": [
        {
          "output_type": "execute_result",
          "data": {
            "text/plain": [
              "2950"
            ]
          },
          "metadata": {},
          "execution_count": 22
        }
      ]
    },
    {
      "metadata": {
        "_cell_guid": "5675cf55-1d86-4b66-a6f7-3c1f100a0bd5",
        "_uuid": "acfbe86b3e2e6178baa9854c962b411f5c676f22",
        "collapsed": true,
        "trusted": true,
        "id": "F2ajaOCwGr0o"
      },
      "cell_type": "code",
      "source": [
        "class WeightedTrie:\n",
        "    # Constructor method to initialize a new WeightedTrie object\n",
        "    def __init__(self):\n",
        "        # Initialize the count attribute. It will keep track of the number of unique prefixes/words in the trie.\n",
        "        self.count = 1\n",
        "\n",
        "        # Initialize the tails attribute. It will store the children of each node (i.e., the next characters in the trie).\n",
        "        self.tails = {}"
      ],
      "execution_count": null,
      "outputs": []
    },
    {
      "metadata": {
        "_cell_guid": "4de8ec91-28db-402c-88e5-a193c465f816",
        "_uuid": "7bc6edbf757dae56c1281d539aab210e3279937a",
        "collapsed": true,
        "trusted": true,
        "id": "0iNRyCzIGr0o"
      },
      "cell_type": "code",
      "source": [
        "def create_trie(in_text):\n",
        "    # Create a new WeightedTrie object to start building the trie\n",
        "    trie = WeightedTrie()\n",
        "\n",
        "    # Iterate over each word in 'y', which is a list of processed words\n",
        "    for word in y:\n",
        "        # Start with the root of the trie for each word\n",
        "        curr = trie\n",
        "\n",
        "        # Iterate over each letter in the current word\n",
        "        for letter in word:\n",
        "            # If the letter already exists as a child node in the current trie node (curr)\n",
        "            if letter in curr.tails:\n",
        "                # Move to the next trie node corresponding to the letter\n",
        "                curr = curr.tails[letter]\n",
        "                # Increment the count of occurrences for this prefix/word\n",
        "                curr.count += 1\n",
        "            else:\n",
        "                # If the letter doesn't exist in the current node's children, create a new node\n",
        "                new_trie = WeightedTrie()\n",
        "                # Add the new node as a child of the current node, keyed by the letter\n",
        "                curr.tails[letter] = new_trie\n",
        "                # Move to the newly created node\n",
        "                curr = new_trie\n",
        "\n",
        "    # Return the root of the trie, now fully populated with the input words\n",
        "    return trie\n"
      ],
      "execution_count": null,
      "outputs": []
    },
    {
      "metadata": {
        "_cell_guid": "b74346b2-223b-470a-bf77-883a01be549c",
        "_uuid": "47304b6418f9efac3947f7a1914af5cefb58d9d9",
        "collapsed": true,
        "trusted": true,
        "id": "tlM5kaa0Gr0o"
      },
      "cell_type": "code",
      "source": [
        "trie = create_trie(y)"
      ],
      "execution_count": null,
      "outputs": []
    },
    {
      "metadata": {
        "_cell_guid": "b5261151-4abc-4915-bf92-608f2a44fa6d",
        "_uuid": "095ef2af20db3fc2060719f8f6bfe8dd1a0e2fca",
        "collapsed": true,
        "trusted": true,
        "id": "WGyQKis8Gr0p"
      },
      "cell_type": "code",
      "source": [
        "def predict(word_start, dic, n=3, width=26):\n",
        "    # Convert the starting word into a list of characters\n",
        "    cs = list(word_start)\n",
        "\n",
        "    # Start at the root of the trie (dic)\n",
        "    curr = dic\n",
        "\n",
        "    # Traverse the trie following the characters of the input word_start\n",
        "    for c in cs:\n",
        "        if c in curr.tails:\n",
        "            # Move to the next node in the trie\n",
        "            curr = curr.tails[c]\n",
        "        else:\n",
        "            # If the character is not found in the trie, return a message\n",
        "            return \"word not found, perhaps add it to known words?\"\n",
        "\n",
        "    # At this point, we've traversed part of the trie based on the word_start prefix\n",
        "    # Now we will perform a breadth-first search (BFS) to find the most likely words\n",
        "    # that extend from the prefix word_start.\n",
        "\n",
        "    # Initialize containers for holding the top words, scores, and the queue for BFS\n",
        "    topn = []  # List to store the top-n predictions\n",
        "    scores = []  # List to store the scores associated with each word\n",
        "    node_queue = []  # Queue for BFS, holds tuples (score, word_so_far, next_level_dict)\n",
        "    tmp = []  # Temporary list to hold intermediate results\n",
        "\n",
        "    # Iterate over all the possible next characters from the current node\n",
        "    for k, v in curr.tails.items():\n",
        "        # Calculate the score for each possible next character.\n",
        "        # The score is penalized for longer words (longer prefix lengths).\n",
        "        score = v.count / len(cs + [k])\n",
        "        tmp.append((score, cs + [k], v.tails))\n",
        "\n",
        "    # Sort the results by score (in descending order) to prioritize higher-frequency words\n",
        "    tmp2 = sorted(tmp, reverse=True)\n",
        "\n",
        "    # Add the top 'width' (most likely) words to the BFS queue\n",
        "    for item in tmp2[:width]:\n",
        "        node_queue.append(item)\n",
        "\n",
        "    # Perform BFS to expand the search for the top-n most likely completions\n",
        "    while node_queue and len(topn) < n:\n",
        "        # Pop the first element from the queue\n",
        "        current_score, so_far, next_dic = node_queue.pop(0)\n",
        "\n",
        "        # If the current word ends (indicated by '<eow>'), add it to the result list\n",
        "        if so_far[-1] == '<eow>':\n",
        "            topn.append(so_far)\n",
        "            scores.append(current_score)\n",
        "\n",
        "        # Expand the search by adding the next level of words (next_dic)\n",
        "        tmp = []\n",
        "        for k, v in next_dic.items():\n",
        "            # Calculate the score for extending the word with the character 'k'\n",
        "            score = (current_score + v.count) / len(so_far + [k])\n",
        "            tmp.append((score, so_far + [k], v.tails))\n",
        "\n",
        "        # Sort the results again by score (in descending order)\n",
        "        tmp2 = sorted(tmp, reverse=True)\n",
        "\n",
        "        # Add the top 'width' (most likely) words to the BFS queue\n",
        "        for item in tmp2[:width]:\n",
        "            node_queue.append(item)\n",
        "\n",
        "    # Return the top-n predictions, sorted by score in descending order\n",
        "    # The predictions are tuples of (score, word)\n",
        "    return sorted([(s, ''.join(item[:-1])) for item, s in zip(topn, scores)], reverse=True)\n"
      ],
      "execution_count": null,
      "outputs": []
    },
    {
      "metadata": {
        "_cell_guid": "bf02b969-189e-4421-bb4e-7f215c889018",
        "_uuid": "eb6d2ae3469d7e9e7aabcd51ceb195beb38acb2f",
        "trusted": true,
        "id": "ufbSAFanGr0p",
        "outputId": "33d20138-0300-4b16-d341-786b93aebafd",
        "colab": {
          "base_uri": "https://localhost:8080/"
        }
      },
      "cell_type": "code",
      "source": [
        "%%time\n",
        "predict(\"vade\", trie)"
      ],
      "execution_count": null,
      "outputs": [
        {
          "output_type": "stream",
          "name": "stdout",
          "text": [
            "CPU times: user 47 µs, sys: 6 µs, total: 53 µs\n",
            "Wall time: 58.2 µs\n"
          ]
        },
        {
          "output_type": "execute_result",
          "data": {
            "text/plain": [
              "[(10.333333333333334, 'vader'), (0.9285714285714286, 'vaders')]"
            ]
          },
          "metadata": {},
          "execution_count": 27
        }
      ]
    },
    {
      "metadata": {
        "_cell_guid": "5eb31571-4ce8-4503-9c9d-400ab5a2b01f",
        "_uuid": "fd8b1d45afd40a2cfc60c0f9b37ec56b243ea7e9",
        "trusted": true,
        "id": "d-eVDKQVGr0p",
        "outputId": "cb9d053f-107e-4e32-e61c-5f4f9dda1aa2",
        "colab": {
          "base_uri": "https://localhost:8080/"
        }
      },
      "cell_type": "code",
      "source": [
        "%%time\n",
        "predict(\"le\", trie, n=10)"
      ],
      "execution_count": null,
      "outputs": [
        {
          "output_type": "stream",
          "name": "stdout",
          "text": [
            "CPU times: user 179 µs, sys: 0 ns, total: 179 µs\n",
            "Wall time: 186 µs\n"
          ]
        },
        {
          "output_type": "execute_result",
          "data": {
            "text/plain": [
              "[(12.25, 'let'),\n",
              " (9.2, 'leia'),\n",
              " (8.75, 'lets'),\n",
              " (4.1, 'lead'),\n",
              " (3.4666666666666663, 'left'),\n",
              " (2.0, 'leak'),\n",
              " (0.8, 'less'),\n",
              " (0.5833333333333333, 'leg'),\n",
              " (0.5666666666666667, 'legs'),\n",
              " (0.3333333333333333, 'led')]"
            ]
          },
          "metadata": {},
          "execution_count": 28
        }
      ]
    },
    {
      "cell_type": "markdown",
      "metadata": {
        "id": "VHfHdGCP_n6Y"
      },
      "source": [
        "### Please answer the questions below to complete the experiment:\n",
        "\n",
        "\n"
      ]
    },
    {
      "cell_type": "code",
      "metadata": {
        "id": "NMzKSbLIgFzQ"
      },
      "source": [
        "#@title How was the experiment? { run: \"auto\", form-width: \"500px\", display-mode: \"form\" }\n",
        "Complexity = \"Good, But Not Challenging for me\" #@param [\"\",\"Too Simple, I am wasting time\", \"Good, But Not Challenging for me\", \"Good and Challenging for me\", \"Was Tough, but I did it\", \"Too Difficult for me\"]\n"
      ],
      "execution_count": null,
      "outputs": []
    },
    {
      "cell_type": "code",
      "metadata": {
        "id": "DjcH1VWSFI2l"
      },
      "source": [
        "#@title If it was too easy, what more would you have liked to be added? If it was very difficult, what would you have liked to have been removed? { run: \"auto\", display-mode: \"form\" }\n",
        "Additional = \"Very Nice Model\" #@param {type:\"string\"}\n"
      ],
      "execution_count": null,
      "outputs": []
    },
    {
      "cell_type": "code",
      "metadata": {
        "id": "4VBk_4VTAxCM"
      },
      "source": [
        "#@title Can you identify the concepts from the lecture which this experiment covered? { run: \"auto\", vertical-output: true, display-mode: \"form\" }\n",
        "Concepts = \"Yes\" #@param [\"\",\"Yes\", \"No\"]\n"
      ],
      "execution_count": null,
      "outputs": []
    },
    {
      "cell_type": "code",
      "metadata": {
        "id": "r35isHfTVGKc"
      },
      "source": [
        "#@title  Experiment walkthrough video? { run: \"auto\", vertical-output: true, display-mode: \"form\" }\n",
        "Walkthrough = \"Very Useful\" #@param [\"\",\"Very Useful\", \"Somewhat Useful\", \"Not Useful\", \"Didn't use\"]\n"
      ],
      "execution_count": null,
      "outputs": []
    },
    {
      "cell_type": "code",
      "metadata": {
        "id": "XH91cL1JWH7m"
      },
      "source": [
        "#@title  Text and image description/explanation and code comments within the experiment: { run: \"auto\", vertical-output: true, display-mode: \"form\" }\n",
        "Comments = \"Very Useful\" #@param [\"\",\"Very Useful\", \"Somewhat Useful\", \"Not Useful\", \"Didn't use\"]\n"
      ],
      "execution_count": null,
      "outputs": []
    },
    {
      "cell_type": "code",
      "metadata": {
        "id": "z8xLqj7VWIKW"
      },
      "source": [
        "#@title Mentor Support: { run: \"auto\", vertical-output: true, display-mode: \"form\" }\n",
        "Mentor_support = \"Very Useful\" #@param [\"\",\"Very Useful\", \"Somewhat Useful\", \"Not Useful\", \"Didn't use\"]\n"
      ],
      "execution_count": null,
      "outputs": []
    },
    {
      "cell_type": "code",
      "metadata": {
        "id": "FzAZHt1zw-Y-",
        "cellView": "form",
        "outputId": "b6051f22-5864-4b84-f98b-f7b393f147a9",
        "colab": {
          "base_uri": "https://localhost:8080/"
        }
      },
      "source": [
        "#@title Run this cell to submit your notebook for Ungrading { vertical-output: true }\n",
        "try:\n",
        "  if submission_id:\n",
        "      return_id = submit_notebook()\n",
        "      if return_id : submission_id = return_id\n",
        "  else:\n",
        "      print(\"Please complete the setup first.\")\n",
        "except NameError:\n",
        "  print (\"Please complete the setup first.\")"
      ],
      "execution_count": null,
      "outputs": [
        {
          "output_type": "stream",
          "name": "stdout",
          "text": [
            "Your submission is successful.\n",
            "Ref Id: 9405\n",
            "Date of submission:  12 Nov 2024\n",
            "Time of submission:  21:59:00\n",
            "View your submissions: https://aiml-iiith.talentsprint.com/notebook_submissions\n"
          ]
        }
      ]
    }
  ],
  "metadata": {
    "kernelspec": {
      "display_name": "Python 3",
      "language": "python",
      "name": "python3"
    },
    "language_info": {
      "name": "python",
      "version": "3.6.5",
      "mimetype": "text/x-python",
      "codemirror_mode": {
        "name": "ipython",
        "version": 3
      },
      "pygments_lexer": "ipython3",
      "nbconvert_exporter": "python",
      "file_extension": ".py"
    },
    "colab": {
      "provenance": [],
      "include_colab_link": true
    }
  },
  "nbformat": 4,
  "nbformat_minor": 0
}